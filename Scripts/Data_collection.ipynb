{
 "cells": [
  {
   "cell_type": "code",
   "execution_count": 2,
   "id": "fb3486f1-7236-491e-b852-03d04ef82204",
   "metadata": {},
   "outputs": [
    {
     "name": "stdout",
     "output_type": "stream",
     "text": [
      "Collecting yfinance\n",
      "  Downloading yfinance-0.2.52-py2.py3-none-any.whl.metadata (5.8 kB)\n",
      "Requirement already satisfied: pandas>=1.3.0 in d:\\anaconda\\lib\\site-packages (from yfinance) (2.1.4)\n",
      "Requirement already satisfied: numpy>=1.16.5 in d:\\anaconda\\lib\\site-packages (from yfinance) (1.26.4)\n",
      "Requirement already satisfied: requests>=2.31 in d:\\anaconda\\lib\\site-packages (from yfinance) (2.31.0)\n",
      "Collecting multitasking>=0.0.7 (from yfinance)\n",
      "  Downloading multitasking-0.0.11-py3-none-any.whl.metadata (5.5 kB)\n",
      "Requirement already satisfied: lxml>=4.9.1 in d:\\anaconda\\lib\\site-packages (from yfinance) (4.9.3)\n",
      "Requirement already satisfied: platformdirs>=2.0.0 in d:\\anaconda\\lib\\site-packages (from yfinance) (3.10.0)\n",
      "Requirement already satisfied: pytz>=2022.5 in d:\\anaconda\\lib\\site-packages (from yfinance) (2023.3.post1)\n",
      "Collecting frozendict>=2.3.4 (from yfinance)\n",
      "  Downloading frozendict-2.4.6-py311-none-any.whl.metadata (23 kB)\n",
      "Collecting peewee>=3.16.2 (from yfinance)\n",
      "  Downloading peewee-3.17.9.tar.gz (3.0 MB)\n",
      "     ---------------------------------------- 0.0/3.0 MB ? eta -:--:--\n",
      "      --------------------------------------- 0.0/3.0 MB 991.0 kB/s eta 0:00:04\n",
      "     ------ --------------------------------- 0.5/3.0 MB 6.0 MB/s eta 0:00:01\n",
      "     -------------- ------------------------- 1.1/3.0 MB 9.8 MB/s eta 0:00:01\n",
      "     -------------------------- ------------- 2.0/3.0 MB 11.4 MB/s eta 0:00:01\n",
      "     ------------------------------------- -- 2.8/3.0 MB 13.8 MB/s eta 0:00:01\n",
      "     ---------------------------------------- 3.0/3.0 MB 12.8 MB/s eta 0:00:00\n",
      "  Installing build dependencies: started\n",
      "  Installing build dependencies: finished with status 'done'\n",
      "  Getting requirements to build wheel: started\n",
      "  Getting requirements to build wheel: finished with status 'done'\n",
      "  Preparing metadata (pyproject.toml): started\n",
      "  Preparing metadata (pyproject.toml): finished with status 'done'\n",
      "Requirement already satisfied: beautifulsoup4>=4.11.1 in d:\\anaconda\\lib\\site-packages (from yfinance) (4.12.2)\n",
      "Collecting html5lib>=1.1 (from yfinance)\n",
      "  Downloading html5lib-1.1-py2.py3-none-any.whl.metadata (16 kB)\n",
      "Requirement already satisfied: soupsieve>1.2 in d:\\anaconda\\lib\\site-packages (from beautifulsoup4>=4.11.1->yfinance) (2.5)\n",
      "Requirement already satisfied: six>=1.9 in d:\\anaconda\\lib\\site-packages (from html5lib>=1.1->yfinance) (1.16.0)\n",
      "Requirement already satisfied: webencodings in d:\\anaconda\\lib\\site-packages (from html5lib>=1.1->yfinance) (0.5.1)\n",
      "Requirement already satisfied: python-dateutil>=2.8.2 in d:\\anaconda\\lib\\site-packages (from pandas>=1.3.0->yfinance) (2.8.2)\n",
      "Requirement already satisfied: tzdata>=2022.1 in d:\\anaconda\\lib\\site-packages (from pandas>=1.3.0->yfinance) (2023.3)\n",
      "Requirement already satisfied: charset-normalizer<4,>=2 in d:\\anaconda\\lib\\site-packages (from requests>=2.31->yfinance) (2.0.4)\n",
      "Requirement already satisfied: idna<4,>=2.5 in d:\\anaconda\\lib\\site-packages (from requests>=2.31->yfinance) (3.4)\n",
      "Requirement already satisfied: urllib3<3,>=1.21.1 in d:\\anaconda\\lib\\site-packages (from requests>=2.31->yfinance) (2.0.7)\n",
      "Requirement already satisfied: certifi>=2017.4.17 in d:\\anaconda\\lib\\site-packages (from requests>=2.31->yfinance) (2024.2.2)\n",
      "Downloading yfinance-0.2.52-py2.py3-none-any.whl (108 kB)\n",
      "   ---------------------------------------- 0.0/108.5 kB ? eta -:--:--\n",
      "   ---------------------------------------- 108.5/108.5 kB 6.1 MB/s eta 0:00:00\n",
      "Downloading frozendict-2.4.6-py311-none-any.whl (16 kB)\n",
      "Downloading html5lib-1.1-py2.py3-none-any.whl (112 kB)\n",
      "   ---------------------------------------- 0.0/112.2 kB ? eta -:--:--\n",
      "   ---------------------------------------- 112.2/112.2 kB ? eta 0:00:00\n",
      "Downloading multitasking-0.0.11-py3-none-any.whl (8.5 kB)\n",
      "Building wheels for collected packages: peewee\n",
      "  Building wheel for peewee (pyproject.toml): started\n",
      "  Building wheel for peewee (pyproject.toml): finished with status 'done'\n",
      "  Created wheel for peewee: filename=peewee-3.17.9-py3-none-any.whl size=139096 sha256=b5ca967d3af31d75f3042e003ae16f4dc5b92fef16c83576faf626ea8a78ccc6\n",
      "  Stored in directory: c:\\users\\nikah\\appdata\\local\\pip\\cache\\wheels\\f4\\14\\e4\\50c88c865833085aeb91e2bd40e3a683ff434806386b8ee7bc\n",
      "Successfully built peewee\n",
      "Installing collected packages: peewee, multitasking, html5lib, frozendict, yfinance\n",
      "Successfully installed frozendict-2.4.6 html5lib-1.1 multitasking-0.0.11 peewee-3.17.9 yfinance-0.2.52\n",
      "Note: you may need to restart the kernel to use updated packages.\n"
     ]
    }
   ],
   "source": [
    "pip install yfinance\n"
   ]
  },
  {
   "cell_type": "code",
   "execution_count": 3,
   "id": "b954a55d-ed45-4e0d-bed2-d6b9420de21a",
   "metadata": {},
   "outputs": [
    {
     "name": "stdout",
     "output_type": "stream",
     "text": [
      "Fetching data for AZN.L...\n"
     ]
    },
    {
     "name": "stderr",
     "output_type": "stream",
     "text": [
      "[*********************100%***********************]  1 of 1 completed\n"
     ]
    },
    {
     "name": "stdout",
     "output_type": "stream",
     "text": [
      "Fetching data for SHEL.L...\n"
     ]
    },
    {
     "name": "stderr",
     "output_type": "stream",
     "text": [
      "[*********************100%***********************]  1 of 1 completed\n"
     ]
    },
    {
     "name": "stdout",
     "output_type": "stream",
     "text": [
      "Fetching data for HSBA.L...\n"
     ]
    },
    {
     "name": "stderr",
     "output_type": "stream",
     "text": [
      "[*********************100%***********************]  1 of 1 completed\n"
     ]
    },
    {
     "name": "stdout",
     "output_type": "stream",
     "text": [
      "Fetching data for ULVR.L...\n"
     ]
    },
    {
     "name": "stderr",
     "output_type": "stream",
     "text": [
      "[*********************100%***********************]  1 of 1 completed\n"
     ]
    },
    {
     "name": "stdout",
     "output_type": "stream",
     "text": [
      "Fetching data for REL.L...\n"
     ]
    },
    {
     "name": "stderr",
     "output_type": "stream",
     "text": [
      "[*********************100%***********************]  1 of 1 completed\n"
     ]
    },
    {
     "name": "stdout",
     "output_type": "stream",
     "text": [
      "Fetching data for BATS.L...\n"
     ]
    },
    {
     "name": "stderr",
     "output_type": "stream",
     "text": [
      "[*********************100%***********************]  1 of 1 completed\n"
     ]
    },
    {
     "name": "stdout",
     "output_type": "stream",
     "text": [
      "Fetching data for BP.L...\n"
     ]
    },
    {
     "name": "stderr",
     "output_type": "stream",
     "text": [
      "[*********************100%***********************]  1 of 1 completed\n"
     ]
    },
    {
     "name": "stdout",
     "output_type": "stream",
     "text": [
      "Fetching data for RIO.L...\n"
     ]
    },
    {
     "name": "stderr",
     "output_type": "stream",
     "text": [
      "[*********************100%***********************]  1 of 1 completed\n"
     ]
    },
    {
     "name": "stdout",
     "output_type": "stream",
     "text": [
      "Fetching data for LSEG.L...\n"
     ]
    },
    {
     "name": "stderr",
     "output_type": "stream",
     "text": [
      "[*********************100%***********************]  1 of 1 completed\n"
     ]
    },
    {
     "name": "stdout",
     "output_type": "stream",
     "text": [
      "Fetching data for GSK.L...\n"
     ]
    },
    {
     "name": "stderr",
     "output_type": "stream",
     "text": [
      "[*********************100%***********************]  1 of 1 completed\n"
     ]
    },
    {
     "name": "stdout",
     "output_type": "stream",
     "text": [
      "Stock data collection complete.\n"
     ]
    },
    {
     "ename": "AttributeError",
     "evalue": "'FundamentalData' object has no attribute 'get_gdp_quarterly'",
     "output_type": "error",
     "traceback": [
      "\u001b[1;31m---------------------------------------------------------------------------\u001b[0m",
      "\u001b[1;31mAttributeError\u001b[0m                            Traceback (most recent call last)",
      "Cell \u001b[1;32mIn[3], line 39\u001b[0m\n\u001b[0;32m     37\u001b[0m ALPHA_VANTAGE_API_KEY \u001b[38;5;241m=\u001b[39m \u001b[38;5;124m\"\u001b[39m\u001b[38;5;124mY1QGE3Q0UKCYEM4L\u001b[39m\u001b[38;5;124m\"\u001b[39m  \u001b[38;5;66;03m# Replace with your API key\u001b[39;00m\n\u001b[0;32m     38\u001b[0m fetch_stock_data(tickers)\n\u001b[1;32m---> 39\u001b[0m fetch_macro_data(ALPHA_VANTAGE_API_KEY)\n\u001b[0;32m     40\u001b[0m \u001b[38;5;28mprint\u001b[39m(\u001b[38;5;124m\"\u001b[39m\u001b[38;5;124mAll data has been collected and saved in the \u001b[39m\u001b[38;5;124m'\u001b[39m\u001b[38;5;124mdata/\u001b[39m\u001b[38;5;124m'\u001b[39m\u001b[38;5;124m directory.\u001b[39m\u001b[38;5;124m\"\u001b[39m)\n",
      "Cell \u001b[1;32mIn[3], line 25\u001b[0m, in \u001b[0;36mfetch_macro_data\u001b[1;34m(api_key)\u001b[0m\n\u001b[0;32m     22\u001b[0m \u001b[38;5;250m\u001b[39m\u001b[38;5;124;03m\"\"\"Fetches UK macroeconomic indicators and saves as CSV.\"\"\"\u001b[39;00m\n\u001b[0;32m     23\u001b[0m fd \u001b[38;5;241m=\u001b[39m FundamentalData(api_key, output_format\u001b[38;5;241m=\u001b[39m\u001b[38;5;124m\"\u001b[39m\u001b[38;5;124mpandas\u001b[39m\u001b[38;5;124m\"\u001b[39m)\n\u001b[1;32m---> 25\u001b[0m gdp_data, _ \u001b[38;5;241m=\u001b[39m fd\u001b[38;5;241m.\u001b[39mget_gdp_quarterly()\n\u001b[0;32m     26\u001b[0m gdp_data\u001b[38;5;241m.\u001b[39mto_csv(\u001b[38;5;124m\"\u001b[39m\u001b[38;5;124mdata/uk_gdp.csv\u001b[39m\u001b[38;5;124m\"\u001b[39m)\n\u001b[0;32m     28\u001b[0m inflation_data, _ \u001b[38;5;241m=\u001b[39m fd\u001b[38;5;241m.\u001b[39mget_inflation()\n",
      "\u001b[1;31mAttributeError\u001b[0m: 'FundamentalData' object has no attribute 'get_gdp_quarterly'"
     ]
    }
   ],
   "source": [
    "import yfinance as yf\n",
    "import pandas as pd\n",
    "import os\n",
    "from alpha_vantage.fundamentaldata import FundamentalData\n",
    "\n",
    "os.makedirs(\"data\", exist_ok=True)\n",
    "\n",
    "# FTSE Top 10 stock tickers\n",
    "tickers = [\"AZN.L\", \"SHEL.L\", \"HSBA.L\", \"ULVR.L\", \"REL.L\", \"BATS.L\", \"BP.L\", \"RIO.L\", \"LSEG.L\", \"GSK.L\"]\n",
    "\n",
    "def fetch_stock_data(tickers, start_date=\"2020-01-01\", end_date=\"2025-02-10\"):\n",
    "    \"\"\"Fetches historical stock prices and saves as CSV.\"\"\"\n",
    "    for ticker in tickers:\n",
    "        print(f\"Fetching data for {ticker}...\")\n",
    "        stock_data = yf.download(ticker, start=start_date, end=end_date)\n",
    "        stock_data.to_csv(f\"data/{ticker}_historical.csv\")\n",
    "    print(\"Stock data collection complete.\")\n",
    "\n",
    "# Fetch macroeconomic data\n",
    "def fetch_macro_data(api_key):\n",
    "    \"\"\"Fetches UK macroeconomic indicators and saves as CSV.\"\"\"\n",
    "    fd = FundamentalData(api_key, output_format=\"pandas\")\n",
    "    \n",
    "    gdp_data, _ = fd.get_gdp_quarterly()\n",
    "    gdp_data.to_csv(\"data/uk_gdp.csv\")\n",
    "    \n",
    "    inflation_data, _ = fd.get_inflation()\n",
    "    inflation_data.to_csv(\"data/uk_inflation.csv\")\n",
    "    \n",
    "    interest_rate_data, _ = fd.get_interest_rate()\n",
    "    interest_rate_data.to_csv(\"data/uk_interest_rates.csv\")\n",
    "    \n",
    "    print(\"Macroeconomic data collection complete.\")\n",
    "\n",
    "if __name__ == \"__main__\":\n",
    "    ALPHA_VANTAGE_API_KEY = \"Y1QGE3Q0UKCYEM4L\"  # Replace with your API key\n",
    "    fetch_stock_data(tickers)\n",
    "    fetch_macro_data(ALPHA_VANTAGE_API_KEY)\n",
    "    print(\"All data has been collected and saved in the 'data/' directory.\")\n"
   ]
  },
  {
   "cell_type": "code",
   "execution_count": 4,
   "id": "27f8304d-da14-4d3b-81a0-95baa5f83d38",
   "metadata": {},
   "outputs": [],
   "source": [
    "API_KEY = \"Y1QGE3Q0UKCYEM4L\"\n"
   ]
  },
  {
   "cell_type": "code",
   "execution_count": 5,
   "id": "c39bc2a8-0fb5-4b9c-92c7-b04197624aba",
   "metadata": {},
   "outputs": [
    {
     "name": "stdout",
     "output_type": "stream",
     "text": [
      "Requirement already satisfied: python-dotenv in d:\\anaconda\\lib\\site-packages (0.21.0)\n",
      "Note: you may need to restart the kernel to use updated packages.\n"
     ]
    }
   ],
   "source": [
    "pip install python-dotenv\n"
   ]
  },
  {
   "cell_type": "code",
   "execution_count": 6,
   "id": "00e2ac5c-c934-4691-8dcb-0928c1a5734b",
   "metadata": {},
   "outputs": [
    {
     "name": "stderr",
     "output_type": "stream",
     "text": [
      "[*********************100%***********************]  1 of 1 completed"
     ]
    },
    {
     "name": "stdout",
     "output_type": "stream",
     "text": [
      "Fetching data for AZN.L...\n",
      "Fetching data for SHEL.L...\n"
     ]
    },
    {
     "name": "stderr",
     "output_type": "stream",
     "text": [
      "\n",
      "[*********************100%***********************]  1 of 1 completed\n",
      "[*********************100%***********************]  1 of 1 completed\n",
      "[*********************100%***********************]  1 of 1 completed\n",
      "[*********************100%***********************]  1 of 1 completed\n",
      "[*********************100%***********************]  1 of 1 completed\n",
      "[*********************100%***********************]  1 of 1 completed"
     ]
    },
    {
     "name": "stdout",
     "output_type": "stream",
     "text": [
      "Fetching data for HSBA.L...\n",
      "Fetching data for ULVR.L...\n",
      "Fetching data for REL.L...\n",
      "Fetching data for BATS.L...\n",
      "Fetching data for BP.L...\n",
      "Fetching data for RIO.L...\n"
     ]
    },
    {
     "name": "stderr",
     "output_type": "stream",
     "text": [
      "\n",
      "[*********************100%***********************]  1 of 1 completed\n"
     ]
    },
    {
     "name": "stdout",
     "output_type": "stream",
     "text": [
      "Fetching data for LSEG.L...\n"
     ]
    },
    {
     "name": "stderr",
     "output_type": "stream",
     "text": [
      "[*********************100%***********************]  1 of 1 completed\n",
      "[*********************100%***********************]  1 of 1 completed\n"
     ]
    },
    {
     "name": "stdout",
     "output_type": "stream",
     "text": [
      "Fetching data for GSK.L...\n",
      "Stock data collection complete.\n",
      "Macroeconomic data collection complete.\n",
      "All data has been collected and saved in the 'data/' directory.\n"
     ]
    }
   ],
   "source": [
    "import yfinance as yf\n",
    "import pandas as pd\n",
    "import os\n",
    "from alpha_vantage.fundamentaldata import FundamentalData\n",
    "from dotenv import load_dotenv  # Import dotenv\n",
    "\n",
    "load_dotenv()\n",
    "API_KEY = os.getenv(\"ALPHA_VANTAGE_API_KEY\")  # Retrieve API key securely\n",
    "\n",
    "os.makedirs(\"data\", exist_ok=True)\n",
    "\n",
    "# FTSE Top 10 stock tickers\n",
    "tickers = [\"AZN.L\", \"SHEL.L\", \"HSBA.L\", \"ULVR.L\", \"REL.L\", \"BATS.L\", \"BP.L\", \"RIO.L\", \"LSEG.L\", \"GSK.L\"]\n",
    "\n",
    "def fetch_stock_data(tickers, start_date=\"2020-01-01\", end_date=\"2025-02-10\"):\n",
    "    \"\"\"Fetches historical stock prices and saves as CSV.\"\"\"\n",
    "    for ticker in tickers:\n",
    "        print(f\"Fetching data for {ticker}...\")\n",
    "        stock_data = yf.download(ticker, start=start_date, end=end_date)\n",
    "        stock_data.to_csv(f\"data/{ticker}_historical.csv\")\n",
    "    print(\"Stock data collection complete.\")\n",
    "\n",
    "def fetch_macro_data(api_key):\n",
    "    \"\"\"Fetches UK macroeconomic indicators and saves as CSV.\"\"\"\n",
    "    \n",
    "    # Fetch GDP Data\n",
    "    url = f\"https://www.alphavantage.co/query?function=REAL_GDP&apikey={api_key}&datatype=csv\"\n",
    "    gdp_data = pd.read_csv(url)\n",
    "    gdp_data.to_csv(\"data/uk_gdp.csv\", index=False)\n",
    "\n",
    "    # Fetch Inflation Data\n",
    "    url = f\"https://www.alphavantage.co/query?function=INFLATION&apikey={api_key}&datatype=csv\"\n",
    "    inflation_data = pd.read_csv(url)\n",
    "    inflation_data.to_csv(\"data/uk_inflation.csv\", index=False)\n",
    "\n",
    "    # Fetch Interest Rates\n",
    "    url = f\"https://www.alphavantage.co/query?function=FEDERAL_FUNDS_RATE&apikey={api_key}&datatype=csv\"\n",
    "    interest_rate_data = pd.read_csv(url)\n",
    "    interest_rate_data.to_csv(\"data/uk_interest_rates.csv\", index=False)\n",
    "\n",
    "    print(\"Macroeconomic data collection complete.\")\n",
    "\n",
    "if __name__ == \"__main__\":\n",
    "    fetch_stock_data(tickers)\n",
    "    fetch_macro_data(API_KEY)\n",
    "    print(\"All data has been collected and saved in the 'data/' directory.\")\n"
   ]
  },
  {
   "cell_type": "code",
   "execution_count": null,
   "id": "a1a4765b-0aa4-4418-a2c7-1842b21e1764",
   "metadata": {},
   "outputs": [],
   "source": []
  }
 ],
 "metadata": {
  "kernelspec": {
   "display_name": "Python 3 (ipykernel)",
   "language": "python",
   "name": "python3"
  },
  "language_info": {
   "codemirror_mode": {
    "name": "ipython",
    "version": 3
   },
   "file_extension": ".py",
   "mimetype": "text/x-python",
   "name": "python",
   "nbconvert_exporter": "python",
   "pygments_lexer": "ipython3",
   "version": "3.11.7"
  }
 },
 "nbformat": 4,
 "nbformat_minor": 5
}
