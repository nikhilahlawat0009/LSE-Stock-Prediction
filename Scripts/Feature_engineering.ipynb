{
 "cells": [
  {
   "cell_type": "code",
   "execution_count": 3,
   "id": "610ddb9e-e42b-4b1e-bf14-5ee788ea029b",
   "metadata": {},
   "outputs": [
    {
     "name": "stdout",
     "output_type": "stream",
     "text": [
      "        Price            Close               High                Low  \\\n",
      "0      Ticker            AZN.L              AZN.L              AZN.L   \n",
      "1        Date              NaN                NaN                NaN   \n",
      "2  2020-01-02    6785.84765625  6794.706465200718  6701.688971218179   \n",
      "3  2020-01-03  6821.2822265625    6821.2822265625  6715.791470659677   \n",
      "4  2020-01-06   6753.068359375  6803.563557654467  6684.855547664141   \n",
      "\n",
      "                Open   Volume  \n",
      "0              AZN.L    AZN.L  \n",
      "1                NaN      NaN  \n",
      "2  6728.265398070333  1704325  \n",
      "3  6754.841165914164  1090818  \n",
      "4  6793.818870267201  1348181  \n"
     ]
    }
   ],
   "source": [
    "data_folder = \"data\"  \n",
    "file = \"AZN.L_historical.csv\"  \n",
    "\n",
    "df = pd.read_csv(os.path.join(data_folder, file))\n",
    "print(df.head())  \n"
   ]
  },
  {
   "cell_type": "code",
   "execution_count": 4,
   "id": "3fc0d98b-bcce-471a-b911-3b8feabfba24",
   "metadata": {},
   "outputs": [
    {
     "name": "stdout",
     "output_type": "stream",
     "text": [
      "       Ticker        AZN.L      AZN.L.1      AZN.L.2      AZN.L.3    AZN.L.4\n",
      "0        Date          NaN          NaN          NaN          NaN        NaN\n",
      "1  2020-01-02  6785.847656  6794.706465  6701.688971  6728.265398  1704325.0\n",
      "2  2020-01-03  6821.282227  6821.282227  6715.791471  6754.841166  1090818.0\n",
      "3  2020-01-06  6753.068359  6803.563558  6684.855548  6793.818870  1348181.0\n",
      "4  2020-01-07  6772.558594  6790.276209  6699.916369  6739.781005  1308820.0\n"
     ]
    }
   ],
   "source": [
    "df = pd.read_csv(os.path.join(data_folder, file), skiprows=1)\n",
    "print(df.head())  \n"
   ]
  },
  {
   "cell_type": "code",
   "execution_count": 6,
   "id": "7f9d0be4-d6c3-4fa0-b514-c3d8a52d92ac",
   "metadata": {},
   "outputs": [
    {
     "name": "stdout",
     "output_type": "stream",
     "text": [
      "                  Close         High          Low         Open     Volume\n",
      "Date                                                                     \n",
      "2020-01-02  6785.847656  6794.706465  6701.688971  6728.265398  1704325.0\n",
      "2020-01-03  6821.282227  6821.282227  6715.791471  6754.841166  1090818.0\n",
      "2020-01-06  6753.068359  6803.563558  6684.855548  6793.818870  1348181.0\n",
      "2020-01-07  6772.558594  6790.276209  6699.916369  6739.781005  1308820.0\n",
      "2020-01-08  6755.727539  6793.820417  6714.091138  6747.754611  1256533.0\n"
     ]
    }
   ],
   "source": [
    "df = pd.read_csv(os.path.join(data_folder, file), skiprows=1)\n",
    "\n",
    "\n",
    "df.columns = [\"Date\", \"Close\", \"High\", \"Low\", \"Open\", \"Volume\"]\n",
    "\n",
    "# Drop any NaN rows in the Date column\n",
    "df = df.dropna(subset=[\"Date\"])\n",
    "\n",
    "# Ensure the Date column is in string format before parsing\n",
    "df[\"Date\"] = df[\"Date\"].astype(str)\n",
    "\n",
    "\n",
    "df[\"Date\"] = pd.to_datetime(df[\"Date\"], format=\"%Y-%m-%d\", errors=\"coerce\")  \n",
    "\n",
    "df = df.dropna(subset=[\"Date\"])\n",
    "\n",
    "df.set_index(\"Date\", inplace=True)\n",
    "\n",
    "print(df.head())  # Check output\n"
   ]
  },
  {
   "cell_type": "code",
   "execution_count": 7,
   "id": "2c25895a-5c26-4ebd-9aec-7123f916f0e8",
   "metadata": {},
   "outputs": [
    {
     "name": "stdout",
     "output_type": "stream",
     "text": [
      "Processing AZN.L from data\\AZN.L_historical.csv...\n",
      "Processed AZN.L successfully!\n",
      "Processing BATS.L from data\\BATS.L_historical.csv...\n",
      "Processed BATS.L successfully!\n",
      "Processing BP.L from data\\BP.L_historical.csv...\n",
      "Processed BP.L successfully!\n",
      "Processing GSK.L from data\\GSK.L_historical.csv...\n",
      "Processed GSK.L successfully!\n",
      "Processing HSBA.L from data\\HSBA.L_historical.csv...\n",
      "Processed HSBA.L successfully!\n",
      "Processing LSEG.L from data\\LSEG.L_historical.csv...\n",
      "Processed LSEG.L successfully!\n",
      "Processing REL.L from data\\REL.L_historical.csv...\n",
      "Processed REL.L successfully!\n",
      "Processing RIO.L from data\\RIO.L_historical.csv...\n",
      "Processed RIO.L successfully!\n",
      "Processing SHEL.L from data\\SHEL.L_historical.csv...\n",
      "Processed SHEL.L successfully!\n",
      "Processing ULVR.L from data\\ULVR.L_historical.csv...\n",
      "Processed ULVR.L successfully!\n",
      "Feature engineering complete.\n",
      "Processed data saved in 'processed_data/' directory.\n"
     ]
    }
   ],
   "source": [
    "import pandas as pd\n",
    "import os\n",
    "\n",
    "os.makedirs(\"processed_data\", exist_ok=True)\n",
    "\n",
    "def calculate_technical_indicators(df):\n",
    "    \"\"\"Computes technical indicators for stock data.\"\"\"\n",
    "    df[\"SMA_50\"] = df[\"Close\"].rolling(window=50).mean()\n",
    "    df[\"SMA_200\"] = df[\"Close\"].rolling(window=200).mean()\n",
    "    df[\"EMA_20\"] = df[\"Close\"].ewm(span=20, adjust=False).mean()\n",
    "    df[\"EMA_50\"] = df[\"Close\"].ewm(span=50, adjust=False).mean()\n",
    "    \n",
    "    # RSI Calculation\n",
    "    delta = df[\"Close\"].diff()\n",
    "    gain = (delta.where(delta > 0, 0)).rolling(14).mean()\n",
    "    loss = (-delta.where(delta < 0, 0)).rolling(14).mean()\n",
    "    rs = gain / loss\n",
    "    df[\"RSI_14\"] = 100 - (100 / (1 + rs))\n",
    "    \n",
    "    # MACD Calculation\n",
    "    df[\"EMA_12\"] = df[\"Close\"].ewm(span=12, adjust=False).mean()\n",
    "    df[\"EMA_26\"] = df[\"Close\"].ewm(span=26, adjust=False).mean()\n",
    "    df[\"MACD\"] = df[\"EMA_12\"] - df[\"EMA_26\"]\n",
    "    \n",
    "    # Bollinger Bands\n",
    "    df[\"Bollinger_Upper\"] = df[\"SMA_50\"] + (df[\"Close\"].rolling(20).std() * 2)\n",
    "    df[\"Bollinger_Lower\"] = df[\"SMA_50\"] - (df[\"Close\"].rolling(20).std() * 2)\n",
    "    \n",
    "    return df\n",
    "\n",
    "def process_all_stocks(data_folder=\"data\", output_folder=\"processed_data\"):\n",
    "    \"\"\"Loads all stock CSV files, applies feature engineering, and saves processed files.\"\"\"\n",
    "    for file in os.listdir(data_folder):\n",
    "        if file.endswith(\"_historical.csv\"):\n",
    "            stock_name = file.split(\"_historical.csv\")[0]\n",
    "            file_path = os.path.join(data_folder, file)\n",
    "            print(f\"Processing {stock_name} from {file_path}...\")\n",
    "            \n",
    "            try:\n",
    "                df = pd.read_csv(file_path, skiprows=1)\n",
    "                df.columns = [\"Date\", \"Close\", \"High\", \"Low\", \"Open\", \"Volume\"]\n",
    "                df = df.dropna(subset=[\"Date\"])\n",
    "                df[\"Date\"] = pd.to_datetime(df[\"Date\"], format=\"%Y-%m-%d\", errors=\"coerce\")\n",
    "                df = df.dropna(subset=[\"Date\"])\n",
    "                df.set_index(\"Date\", inplace=True)\n",
    "                \n",
    "                df = calculate_technical_indicators(df)\n",
    "                \n",
    "                output_path = os.path.join(output_folder, f\"{stock_name}_processed.csv\")\n",
    "                df.to_csv(output_path)\n",
    "                print(f\"Processed {stock_name} successfully!\")\n",
    "            \n",
    "            except Exception as e:\n",
    "                print(f\"Error processing {file}: {e}\")\n",
    "\n",
    "    print(\"Feature engineering complete.\")\n",
    "\n",
    "if __name__ == \"__main__\":\n",
    "    process_all_stocks()\n",
    "    print(\"Processed data saved in 'processed_data/' directory.\")\n"
   ]
  },
  {
   "cell_type": "code",
   "execution_count": null,
   "id": "d47ca95b-bf76-4ba6-9e73-a661f1b1a449",
   "metadata": {},
   "outputs": [],
   "source": []
  }
 ],
 "metadata": {
  "kernelspec": {
   "display_name": "Python 3 (ipykernel)",
   "language": "python",
   "name": "python3"
  },
  "language_info": {
   "codemirror_mode": {
    "name": "ipython",
    "version": 3
   },
   "file_extension": ".py",
   "mimetype": "text/x-python",
   "name": "python",
   "nbconvert_exporter": "python",
   "pygments_lexer": "ipython3",
   "version": "3.11.7"
  }
 },
 "nbformat": 4,
 "nbformat_minor": 5
}
