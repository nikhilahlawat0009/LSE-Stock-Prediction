{
 "cells": [
  {
   "cell_type": "code",
   "execution_count": 2,
   "id": "6f2c0a81-d3aa-46ee-8ee4-3e3084adae5e",
   "metadata": {},
   "outputs": [
    {
     "name": "stderr",
     "output_type": "stream",
     "text": [
      "2025-02-11 13:17:21.186 WARNING streamlit.runtime.scriptrunner_utils.script_run_context: Thread 'MainThread': missing ScriptRunContext! This warning can be ignored when running in bare mode.\n",
      "2025-02-11 13:17:21.186 WARNING streamlit.runtime.scriptrunner_utils.script_run_context: Thread 'MainThread': missing ScriptRunContext! This warning can be ignored when running in bare mode.\n",
      "2025-02-11 13:17:22.039 \n",
      "  \u001b[33m\u001b[1mWarning:\u001b[0m to view this Streamlit app on a browser, run it with the following\n",
      "  command:\n",
      "\n",
      "    streamlit run D:\\Anaconda\\Lib\\site-packages\\ipykernel_launcher.py [ARGUMENTS]\n",
      "2025-02-11 13:17:22.039 Thread 'MainThread': missing ScriptRunContext! This warning can be ignored when running in bare mode.\n",
      "2025-02-11 13:17:22.039 Thread 'MainThread': missing ScriptRunContext! This warning can be ignored when running in bare mode.\n",
      "2025-02-11 13:17:22.051 Thread 'MainThread': missing ScriptRunContext! This warning can be ignored when running in bare mode.\n",
      "2025-02-11 13:17:22.051 Thread 'MainThread': missing ScriptRunContext! This warning can be ignored when running in bare mode.\n",
      "2025-02-11 13:17:22.051 Thread 'MainThread': missing ScriptRunContext! This warning can be ignored when running in bare mode.\n",
      "2025-02-11 13:17:22.051 Session state does not function when running a script without `streamlit run`\n",
      "2025-02-11 13:17:22.051 Thread 'MainThread': missing ScriptRunContext! This warning can be ignored when running in bare mode.\n",
      "2025-02-11 13:17:22.051 Thread 'MainThread': missing ScriptRunContext! This warning can be ignored when running in bare mode.\n",
      "2025-02-11 13:17:22.092 Thread 'MainThread': missing ScriptRunContext! This warning can be ignored when running in bare mode.\n",
      "2025-02-11 13:17:22.093 Thread 'MainThread': missing ScriptRunContext! This warning can be ignored when running in bare mode.\n",
      "D:\\Anaconda\\Lib\\site-packages\\_plotly_utils\\basevalidators.py:106: FutureWarning: The behavior of DatetimeProperties.to_pydatetime is deprecated, in a future version this will return a Series containing python datetime objects instead of an ndarray. To retain the old behavior, call `np.array` on the result\n",
      "  v = v.dt.to_pydatetime()\n",
      "2025-02-11 13:17:22.547 Thread 'MainThread': missing ScriptRunContext! This warning can be ignored when running in bare mode.\n",
      "2025-02-11 13:17:22.552 Thread 'MainThread': missing ScriptRunContext! This warning can be ignored when running in bare mode.\n",
      "2025-02-11 13:17:22.556 Thread 'MainThread': missing ScriptRunContext! This warning can be ignored when running in bare mode.\n",
      "2025-02-11 13:17:22.557 Thread 'MainThread': missing ScriptRunContext! This warning can be ignored when running in bare mode.\n",
      "2025-02-11 13:17:24.490 Thread 'MainThread': missing ScriptRunContext! This warning can be ignored when running in bare mode.\n",
      "2025-02-11 13:17:24.490 Thread 'MainThread': missing ScriptRunContext! This warning can be ignored when running in bare mode.\n",
      "2025-02-11 13:17:24.490 Thread 'MainThread': missing ScriptRunContext! This warning can be ignored when running in bare mode.\n",
      "2025-02-11 13:17:24.490 Thread 'MainThread': missing ScriptRunContext! This warning can be ignored when running in bare mode.\n",
      "2025-02-11 13:17:24.504 Thread 'MainThread': missing ScriptRunContext! This warning can be ignored when running in bare mode.\n",
      "2025-02-11 13:17:24.504 Thread 'MainThread': missing ScriptRunContext! This warning can be ignored when running in bare mode.\n",
      "2025-02-11 13:17:24.529 Thread 'MainThread': missing ScriptRunContext! This warning can be ignored when running in bare mode.\n",
      "2025-02-11 13:17:24.529 Thread 'MainThread': missing ScriptRunContext! This warning can be ignored when running in bare mode.\n"
     ]
    },
    {
     "data": {
      "text/plain": [
       "DeltaGenerator()"
      ]
     },
     "execution_count": 2,
     "metadata": {},
     "output_type": "execute_result"
    }
   ],
   "source": [
    "import streamlit as st\n",
    "import pandas as pd\n",
    "import joblib\n",
    "import plotly.express as px\n",
    "import os\n",
    "\n",
    "# Set up the Streamlit page\n",
    "st.set_page_config(page_title=\"Stock Forecasting Dashboard\", layout=\"wide\")\n",
    "st.title(\"📈 Stock Forecasting Dashboard\")\n",
    "\n",
    "# Load processed data and models\n",
    "data_folder = \"processed_data\"\n",
    "models_folder = \"models\"\n",
    "stock_files = [f for f in os.listdir(data_folder) if f.endswith(\"_processed.csv\")]\n",
    "\n",
    "# Dropdown to select a stock\n",
    "stock_options = [f.replace(\"_processed.csv\", \"\") for f in stock_files]\n",
    "selected_stock = st.selectbox(\"Select a stock:\", stock_options)\n",
    "\n",
    "# Load stock data\n",
    "df = pd.read_csv(os.path.join(data_folder, f\"{selected_stock}_processed.csv\"), index_col=\"Date\", parse_dates=True)\n",
    "\n",
    "# Plot historical stock prices\n",
    "st.subheader(\"📊 Historical Stock Prices\")\n",
    "fig = px.line(df, x=df.index, y=\"Close\", title=f\"Closing Prices for {selected_stock}\")\n",
    "st.plotly_chart(fig, use_container_width=True)\n",
    "\n",
    "# Load trained model\n",
    "model_path = os.path.join(models_folder, f\"{selected_stock}_rf_model.pkl\")\n",
    "if os.path.exists(model_path):\n",
    "    model = joblib.load(model_path)\n",
    "    \n",
    "    # Prepare last available data for prediction\n",
    "    feature_columns = [\"Close\", \"SMA_50\", \"SMA_200\", \"EMA_20\", \"EMA_50\", \"RSI_14\", \"MACD\", \"Bollinger_Upper\", \"Bollinger_Lower\"]\n",
    "    latest_data = df[feature_columns].iloc[-1].to_frame().T  # Convert to DataFrame instead of array\n",
    "    \n",
    "    # Ensure feature names match training data\n",
    "    latest_data.columns = feature_columns  \n",
    "    \n",
    "    predicted_price = model.predict(latest_data)[0]\n",
    "    \n",
    "    st.subheader(\"🔮 Next Day Predicted Price\")\n",
    "    st.metric(label=f\"Predicted Closing Price for {selected_stock}\", value=f\"£{predicted_price:.2f}\")\n",
    "else:\n",
    "    st.warning(\"No trained model found for this stock.\")\n",
    "\n",
    "st.subheader(\"📌 Technical Indicators\")\n",
    "st.dataframe(df[[\"SMA_50\", \"SMA_200\", \"EMA_20\", \"EMA_50\", \"RSI_14\", \"MACD\", \"Bollinger_Upper\", \"Bollinger_Lower\"]].tail(10))\n"
   ]
  },
  {
   "cell_type": "code",
   "execution_count": null,
   "id": "033f07d2-5e06-47ed-820d-ef4726d2b522",
   "metadata": {},
   "outputs": [],
   "source": []
  }
 ],
 "metadata": {
  "kernelspec": {
   "display_name": "Python 3 (ipykernel)",
   "language": "python",
   "name": "python3"
  },
  "language_info": {
   "codemirror_mode": {
    "name": "ipython",
    "version": 3
   },
   "file_extension": ".py",
   "mimetype": "text/x-python",
   "name": "python",
   "nbconvert_exporter": "python",
   "pygments_lexer": "ipython3",
   "version": "3.11.7"
  }
 },
 "nbformat": 4,
 "nbformat_minor": 5
}
